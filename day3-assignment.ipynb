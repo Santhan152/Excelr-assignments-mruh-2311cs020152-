{
 "cells": [
  {
   "cell_type": "code",
   "execution_count": 1,
   "id": "b11132e7-9783-4246-9a50-cefadba2b90e",
   "metadata": {},
   "outputs": [],
   "source": [
    "#3)Write a Python program that takes a student's marks in three subjects as input.\n",
    "#•\tIf the average is greater than or equal to 90, print \"Grade: A\".\n",
    "#•\tIf the average is between 80 and 89, print \"Grade: B\".\n",
    "#•\tIf the average is between 70 and 79, print \"Grade: C\".\n",
    "#Otherwise, print \"Grade: Fail\".\n"
   ]
  },
  {
   "cell_type": "code",
   "execution_count": 3,
   "id": "c4116bd3-ca68-49e5-9aa7-35dccb1177b6",
   "metadata": {},
   "outputs": [
    {
     "name": "stdin",
     "output_type": "stream",
     "text": [
      "Enter marks for maths: 90.9\n",
      "Enter marks for Physics: 88.7\n",
      "Enter marks for Biology: 78.9\n"
     ]
    },
    {
     "name": "stdout",
     "output_type": "stream",
     "text": [
      "86.16666666666667\n",
      "Grade: B\n"
     ]
    }
   ],
   "source": [
    "subject_1=float(input(\"Enter marks for maths:\"))\n",
    "subject_2=float(input(\"Enter marks for Physics:\"))\n",
    "subject_3=float(input(\"Enter marks for Biology:\"))\n",
    "avg_marks=(subject_1+subject_2+subject_3)/3\n",
    "print(avg_marks)\n",
    "if avg_marks>=90:\n",
    "    print(\"Grade: A\")\n",
    "elif avg_marks<90:\n",
    "    print(\"Grade: B\")\n",
    "elif avg_marks<80:\n",
    "    print(\"Grade: C\")\n",
    "else:\n",
    "    print(\"Grade: Fail\")"
   ]
  },
  {
   "cell_type": "code",
   "execution_count": null,
   "id": "fd46c26d-82c0-43d3-b209-8c82225688ea",
   "metadata": {},
   "outputs": [],
   "source": []
  }
 ],
 "metadata": {
  "kernelspec": {
   "display_name": "Python [conda env:base] *",
   "language": "python",
   "name": "conda-base-py"
  },
  "language_info": {
   "codemirror_mode": {
    "name": "ipython",
    "version": 3
   },
   "file_extension": ".py",
   "mimetype": "text/x-python",
   "name": "python",
   "nbconvert_exporter": "python",
   "pygments_lexer": "ipython3",
   "version": "3.11.4"
  }
 },
 "nbformat": 4,
 "nbformat_minor": 5
}
