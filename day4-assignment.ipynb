{
 "cells": [
  {
   "cell_type": "markdown",
   "id": "93881f82-2d4c-4877-978a-51823c487076",
   "metadata": {},
   "source": [
    "4)Write a Python program to calculate the sum of all even numbers between 1 and a given positive integer n"
   ]
  },
  {
   "cell_type": "code",
   "execution_count": null,
   "id": "f54c68c6-c302-451c-b887-0b1d4deaa1cd",
   "metadata": {},
   "outputs": [],
   "source": [
    "n = int(input(\"Enter a positive integer n:\"))\n",
    "sum_of_evens=0\n",
    "for i in range(1,n+1):\n",
    "    if i%2==0:\n",
    "        sum_of_evens+=i\n",
    "print(\"The sum of all even numbers between 1 and\",n,\"is:\",sum_o"
   ]
  }
 ],
 "metadata": {
  "kernelspec": {
   "display_name": "Python [conda env:base] *",
   "language": "python",
   "name": "conda-base-py"
  },
  "language_info": {
   "codemirror_mode": {
    "name": "ipython",
    "version": 3
   },
   "file_extension": ".py",
   "mimetype": "text/x-python",
   "name": "python",
   "nbconvert_exporter": "python",
   "pygments_lexer": "ipython3",
   "version": "3.11.4"
  }
 },
 "nbformat": 4,
 "nbformat_minor": 5
}
