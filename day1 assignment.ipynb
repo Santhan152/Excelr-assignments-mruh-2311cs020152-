{
 "cells": [
  {
   "cell_type": "code",
   "execution_count": 5,
   "id": "1365d7d8-f132-4f7f-a420-5eca46da73de",
   "metadata": {},
   "outputs": [],
   "source": [
    "#1. Jupyter Notebook and Data Types\n",
    "#Write a program in Jupyter Notebook to declare variables of different data types (integer, float, string, and boolean). Print each variable and its type."
   ]
  },
  {
   "cell_type": "code",
   "execution_count": 11,
   "id": "d990e582-d51e-4905-93f2-63c3c5f3236b",
   "metadata": {},
   "outputs": [
    {
     "name": "stdout",
     "output_type": "stream",
     "text": [
      "<class 'int'>\n",
      "<class 'float'>\n",
      "<class 'str'>\n",
      "<class 'bool'>\n"
     ]
    }
   ],
   "source": [
    "a=31\n",
    "b=7.90\n",
    "c=\"Hello!!\"\n",
    "d=False\n",
    "print (type(a))\n",
    "print (type(b))\n",
    "print (type(c))\n",
    "print (type(d))"
   ]
  },
  {
   "cell_type": "code",
   "execution_count": null,
   "id": "0c2c716c-e022-4127-bb72-814c66898274",
   "metadata": {},
   "outputs": [],
   "source": []
  }
 ],
 "metadata": {
  "kernelspec": {
   "display_name": "Python [conda env:base] *",
   "language": "python",
   "name": "conda-base-py"
  },
  "language_info": {
   "codemirror_mode": {
    "name": "ipython",
    "version": 3
   },
   "file_extension": ".py",
   "mimetype": "text/x-python",
   "name": "python",
   "nbconvert_exporter": "python",
   "pygments_lexer": "ipython3",
   "version": "3.11.4"
  }
 },
 "nbformat": 4,
 "nbformat_minor": 5
}
