{
 "cells": [
  {
   "cell_type": "code",
   "execution_count": 1,
   "id": "826b72f5-5079-4517-b3c4-d9e552c9cbf4",
   "metadata": {},
   "outputs": [],
   "source": [
    "#2)Create a List, tuple and Dictionary with 5 elements in it and how to access few elements based on the index. Try  with different examples "
   ]
  },
  {
   "cell_type": "code",
   "execution_count": 3,
   "id": "58c59d60-976c-40a7-8284-8809bcd85269",
   "metadata": {},
   "outputs": [
    {
     "name": "stdout",
     "output_type": "stream",
     "text": [
      "First element: 10\n",
      "Third element: 30\n",
      "Last element: 50\n"
     ]
    }
   ],
   "source": [
    "#List\n",
    "my_list=[10,20,30,40,50]\n",
    "first_element=my_list[0]\n",
    "third_element=my_list[2]\n",
    "last_element=my_list[-1]\n",
    "print(\"First element:\",first_element)\n",
    "print(\"Third element:\",third_element)\n",
    "print(\"Last element:\",last_element)"
   ]
  },
  {
   "cell_type": "code",
   "execution_count": 5,
   "id": "a0f7eeb4-bf0a-4fc3-a656-691f4d3130af",
   "metadata": {},
   "outputs": [],
   "source": [
    "#Tuple"
   ]
  },
  {
   "cell_type": "code",
   "execution_count": 7,
   "id": "d05f21d8-3701-4707-935f-193ce3db75a7",
   "metadata": {},
   "outputs": [
    {
     "name": "stdout",
     "output_type": "stream",
     "text": [
      "Second element: cherry\n",
      "Fourth element: blacberry\n",
      "Negative index element: grapes\n"
     ]
    }
   ],
   "source": [
    "my_tuple=('apple','cherry','grapes','blacberry')\n",
    "second_element=my_tuple[1]\n",
    "fourth_element=my_tuple[3]\n",
    "negative_index_element=my_tuple[-2]\n",
    "print(\"Second element:\",second_element)\n",
    "print(\"Fourth element:\",fourth_element)\n",
    "print(\"Negative index element:\",negative_index_element)"
   ]
  },
  {
   "cell_type": "code",
   "execution_count": 9,
   "id": "d337a121-c642-472a-9897-14b6d94707c9",
   "metadata": {},
   "outputs": [],
   "source": [
    "#Dictionary"
   ]
  },
  {
   "cell_type": "code",
   "execution_count": null,
   "id": "c57d4d08-b117-4bf8-8ca1-7e1bd08a9eec",
   "metadata": {},
   "outputs": [],
   "source": [
    "my_dict={\n",
    "    'name':'Rahim',\n",
    "    'age':'56',\n",
    "    'city':'Hyderabad',\n",
    "    'job':'manager',\n",
    "    'hobby':'bowling'\n",
    "}\n",
    "name_value=my_dict['name']\n",
    "city_value=my_dict['city']\n",
    "job_value=my_dict['job']\n",
    "print(\""
   ]
  }
 ],
 "metadata": {
  "kernelspec": {
   "display_name": "Python [conda env:base] *",
   "language": "python",
   "name": "conda-base-py"
  },
  "language_info": {
   "codemirror_mode": {
    "name": "ipython",
    "version": 3
   },
   "file_extension": ".py",
   "mimetype": "text/x-python",
   "name": "python",
   "nbconvert_exporter": "python",
   "pygments_lexer": "ipython3",
   "version": "3.11.4"
  }
 },
 "nbformat": 4,
 "nbformat_minor": 5
}
